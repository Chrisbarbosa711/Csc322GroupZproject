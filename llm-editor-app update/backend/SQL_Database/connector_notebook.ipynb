{
 "cells": [
  {
   "cell_type": "markdown",
   "id": "7bd3fdea",
   "metadata": {},
   "source": [
    "# DB Connector Showcase\n",
    "\n",
    "This jupyter notebook demonstrates some of the functionality of the **Database** class to automatically connect to the remote server for the word_editor project.\n",
    "\n",
    "Import the Database class from the db_connector file\n",
    "\n",
    "***Make sure that you have installed the following python packages with pip for using the connector:*** \n",
    "- pymysql \n",
    "- cryptography"
   ]
  },
  {
   "cell_type": "code",
   "execution_count": 1,
   "id": "e41030fa",
   "metadata": {},
   "outputs": [
    {
     "name": "stdout",
     "output_type": "stream",
     "text": [
      "{'id': 29, 'username': 'smartin10', 'text': 'They be on the way', 'correction': 'They are on the way', 'tokens_used': 1, 'created_at': datetime.datetime(2025, 5, 12, 17, 0)}\n"
     ]
    }
   ],
   "source": [
    "from db_connector import Database"
   ]
  },
  {
   "cell_type": "markdown",
   "id": "3db91c6a",
   "metadata": {},
   "source": [
    "Below is the basic functionality to use the db connector"
   ]
  },
  {
   "cell_type": "code",
   "execution_count": 2,
   "id": "9d724109",
   "metadata": {},
   "outputs": [],
   "source": [
    "# Instantiate an instance of the Database connector\n",
    "db = Database()\n",
    "\n",
    "# PERFORM DATABASE FUNCTIONS HERE\n",
    "\n",
    "# Close the connection\n",
    "db.close()"
   ]
  },
  {
   "cell_type": "markdown",
   "id": "f8615ae4",
   "metadata": {},
   "source": [
    "## Testing Users Table Functionality"
   ]
  },
  {
   "cell_type": "code",
   "execution_count": 3,
   "id": "9ce3ba99",
   "metadata": {},
   "outputs": [
    {
     "name": "stdout",
     "output_type": "stream",
     "text": [
      "User exists (should be False): False\n",
      "User creation successful (should be True): True\n",
      "User exists (should be True): True\n",
      "Password correct (should be True): True\n",
      "Initial user type (should be 'free'): free\n",
      "Initial user tokens (should be 0): 0\n",
      "Updated user type (should be 'paid'): paid\n",
      "Updated user tokens (should be 10): 10\n",
      "Final user tokens (should be 5): 5\n",
      "User deletion successful (should be True): True\n",
      "User exists after deletion (should be False): False\n"
     ]
    }
   ],
   "source": [
    "# Instantiate the Database\n",
    "db = Database()\n",
    "\n",
    "# Test username and password\n",
    "test_username = \"test_user_123\"\n",
    "test_password = \"secure_pass\"\n",
    "\n",
    "# 1. Check that the user doesn't exist\n",
    "print(\"User exists (should be False):\", db.username_exists(test_username))\n",
    "\n",
    "# 2. Create the user\n",
    "user_created = db.register_user(test_username, test_password)\n",
    "print(\"User creation successful (should be True):\", user_created)\n",
    "\n",
    "# 3. Check that the user now exists\n",
    "print(\"User exists (should be True):\", db.username_exists(test_username))\n",
    "\n",
    "# 4. Check if password is correct\n",
    "print(\"Password correct (should be True):\", db.check_password(test_username, test_password))\n",
    "\n",
    "# 5. Check initial user level\n",
    "print(\"Initial user type (should be 'free'):\", db.get_user_type(test_username))\n",
    "\n",
    "# 6. Check initial token count\n",
    "print(\"Initial user tokens (should be 0):\", db.get_tokens(test_username))\n",
    "\n",
    "# 7. Change user level to 'paid'\n",
    "db.alter_user_type(test_username, 'paid')\n",
    "\n",
    "# 8. Check updated user level\n",
    "print(\"Updated user type (should be 'paid'):\", db.get_user_type(test_username))\n",
    "\n",
    "# 9. Add 10 tokens\n",
    "db.alter_tokens(test_username, 10)\n",
    "\n",
    "# 10. Check token count (should be 10)\n",
    "print(\"Updated user tokens (should be 10):\", db.get_tokens(test_username))\n",
    "\n",
    "# 11. Subtract 5 tokens\n",
    "db.alter_tokens(test_username, -5)\n",
    "\n",
    "# 12. Check token count again (should be 5)\n",
    "print(\"Final user tokens (should be 5):\", db.get_tokens(test_username))\n",
    "\n",
    "# 13. Delete the user\n",
    "user_deleted = db.delete_user(test_username)\n",
    "print(\"User deletion successful (should be True):\", user_deleted)\n",
    "\n",
    "# 14. Confirm deletion\n",
    "print(\"User exists after deletion (should be False):\", db.username_exists(test_username))\n",
    "\n",
    "# Close the database connection\n",
    "db.close()\n"
   ]
  },
  {
   "cell_type": "markdown",
   "id": "70c86e07",
   "metadata": {},
   "source": [
    "## Testing Blacklist Table Functionality"
   ]
  },
  {
   "cell_type": "code",
   "execution_count": 4,
   "id": "d60ffc9f",
   "metadata": {},
   "outputs": [
    {
     "name": "stdout",
     "output_type": "stream",
     "text": [
      "Blacklist word exists (should be False): False\n",
      "Word added to blacklist (should be True): True\n",
      "Blacklist word exists (should be True): True\n",
      "Word is in unreviewed blacklist words (should be True): True\n",
      "Word is in unreviewed blacklist words after review (should be False): False\n",
      "Word deletion successful (should be True): True\n",
      "Blacklist word exists after deletion (should be False): False\n"
     ]
    }
   ],
   "source": [
    "# Instantiate the Database\n",
    "db = Database()\n",
    "\n",
    "# Test word\n",
    "test_word = \"inappropriate_word_123\"\n",
    "\n",
    "# 1. Check that the word doesn't exist in the blacklist\n",
    "print(\"Blacklist word exists (should be False):\", db.blacklist_word_exists(test_word))\n",
    "\n",
    "# 2. Add the word to the blacklist\n",
    "word_added = db.add_blacklist_word(test_word)\n",
    "print(\"Word added to blacklist (should be True):\", word_added)\n",
    "\n",
    "# 3. Check that the word now exists\n",
    "print(\"Blacklist word exists (should be True):\", db.blacklist_word_exists(test_word))\n",
    "\n",
    "# 4. Check if the word is in the list of unreviewed blacklist words\n",
    "unreviewed_words = db.get_unreviewed_blacklist_words()\n",
    "word_in_unreviewed = any(word['word'] == test_word for word in unreviewed_words)\n",
    "print(\"Word is in unreviewed blacklist words (should be True):\", word_in_unreviewed)\n",
    "\n",
    "# 5. Mark the word as reviewed\n",
    "db.blacklist_alter_reviewed(test_word, 1)\n",
    "\n",
    "# 6. Verify the word is no longer in unreviewed blacklist words\n",
    "unreviewed_words_updated = db.get_unreviewed_blacklist_words()\n",
    "word_still_unreviewed = any(word['word'] == test_word for word in unreviewed_words_updated)\n",
    "print(\"Word is in unreviewed blacklist words after review (should be False):\", word_still_unreviewed)\n",
    "\n",
    "# 7. Delete the word from the blacklist\n",
    "word_deleted = db.delete_blacklist_word(test_word)\n",
    "print(\"Word deletion successful (should be True):\", word_deleted)\n",
    "\n",
    "# 8. Confirm the word no longer exists\n",
    "print(\"Blacklist word exists after deletion (should be False):\", db.blacklist_word_exists(test_word))\n",
    "\n",
    "# Close the database connection\n",
    "db.close()\n"
   ]
  },
  {
   "cell_type": "markdown",
   "id": "f6f7db23",
   "metadata": {},
   "source": [
    "## Testing Complaint Table Functionality"
   ]
  },
  {
   "cell_type": "code",
   "execution_count": 5,
   "id": "6eb2b7dd",
   "metadata": {},
   "outputs": [
    {
     "name": "stdout",
     "output_type": "stream",
     "text": [
      "Complaint successfully added (should be True): True\n",
      "Undisputed complaints found for complaint_tester_2 (should be >= 1): 1\n",
      "Complaint ID: 140\n",
      "Complaint exists (should be True): True\n",
      "Dispute successfully added (should be True): True\n",
      "Complaint marked as reviewed (should be True): True\n",
      "Complaint still in unreviewed list (should be False): False\n",
      "Complaint deletion successful (should be True): True\n",
      "Complaint exists after deletion (should be False): False\n"
     ]
    }
   ],
   "source": [
    "# Instantiate the Database\n",
    "db = Database()\n",
    "\n",
    "# Test users\n",
    "reporter = \"complaint_tester_1\"\n",
    "reportee = \"complaint_tester_2\"\n",
    "complaint_text = \"This user submitted inappropriate edits.\"\n",
    "dispute_text = \"That is not true, my edits were valid.\"\n",
    "\n",
    "# Ensure both users exist\n",
    "if not db.username_exists(reporter):\n",
    "    db.register_user(reporter, \"test123\")\n",
    "if not db.username_exists(reportee):\n",
    "    db.register_user(reportee, \"test123\")\n",
    "\n",
    "# 1. Add a complaint\n",
    "complaint_added = db.add_complaint(reporter, reportee, complaint_text)\n",
    "print(\"Complaint successfully added (should be True):\", complaint_added)\n",
    "\n",
    "# 2. Retrieve undisputed complaints against reportee\n",
    "undisputed_complaints = db.get_undisputed_complaints(reportee)\n",
    "print(f\"Undisputed complaints found for {reportee} (should be >= 1):\", len(undisputed_complaints))\n",
    "\n",
    "# Store ID of the complaint we just added\n",
    "complaint_id = undisputed_complaints[0]['id']\n",
    "print(\"Complaint ID:\", complaint_id)\n",
    "\n",
    "# 3. Verify complaint exists\n",
    "print(\"Complaint exists (should be True):\", db.complaint_exists(complaint_id))\n",
    "\n",
    "# 4. Add a dispute to the complaint\n",
    "dispute_added = db.alter_dispute(complaint_id, reportee, dispute_text)\n",
    "print(\"Dispute successfully added (should be True):\", dispute_added)\n",
    "\n",
    "# 5. Mark the complaint as reviewed\n",
    "reviewed = db.complaints_alter_reviewed(complaint_id, 1)\n",
    "print(\"Complaint marked as reviewed (should be True):\", reviewed)\n",
    "\n",
    "# 6. Check for unreviewed complaints (should not include the above)\n",
    "unreviewed_complaints = db.get_unreviewed_complaints()\n",
    "is_still_unreviewed = any(c['id'] == complaint_id for c in unreviewed_complaints)\n",
    "print(\"Complaint still in unreviewed list (should be False):\", is_still_unreviewed)\n",
    "\n",
    "# 7. Delete the complaint\n",
    "deleted = db.delete_complaint(complaint_id)\n",
    "print(\"Complaint deletion successful (should be True):\", deleted)\n",
    "\n",
    "# 8. Confirm deletion\n",
    "print(\"Complaint exists after deletion (should be False):\", db.complaint_exists(complaint_id))\n",
    "\n",
    "# Clean up test users\n",
    "db.delete_user(reporter)\n",
    "db.delete_user(reportee)\n",
    "\n",
    "# Close the database connection\n",
    "db.close()\n"
   ]
  },
  {
   "cell_type": "markdown",
   "id": "9d62f804",
   "metadata": {},
   "source": [
    "## Testing Rejected Corrections Table Functionality"
   ]
  },
  {
   "cell_type": "code",
   "execution_count": 6,
   "id": "20766204",
   "metadata": {},
   "outputs": [
    {
     "name": "stdout",
     "output_type": "stream",
     "text": [
      "Correction added (should be True): True\n",
      "Unreviewed corrections found (should be >= 1): 18\n",
      "Correction ID: 22\n",
      "Correction exists (should be True): True\n",
      "Correction marked as reviewed (should be True): True\n",
      "Correction still in unreviewed list (should be False): False\n",
      "Correction deletion successful (should be True): True\n",
      "Correction exists after deletion (should be False): False\n"
     ]
    }
   ],
   "source": [
    "# Instantiate the Database\n",
    "db = Database()\n",
    "\n",
    "# Test user and correction data\n",
    "username = \"correction_tester\"\n",
    "correction_text = \"They replaced colour with color.\"\n",
    "reason_text = \"Spelling doesnt match UK English style.\"\n",
    "\n",
    "# Ensure user exists\n",
    "if not db.username_exists(username):\n",
    "    db.register_user(username, \"test123\")\n",
    "\n",
    "# 1. Add a rejected correction\n",
    "correction_added = db.add_correction(username, correction_text, reason_text)\n",
    "print(\"Correction added (should be True):\", correction_added)\n",
    "\n",
    "# 2. Retrieve unreviewed corrections\n",
    "unreviewed = db.get_unreviewed_corrections()\n",
    "print(\"Unreviewed corrections found (should be >= 1):\", len(unreviewed))\n",
    "\n",
    "# Get the ID of the correction just added\n",
    "correction_id = unreviewed[0]['id']\n",
    "print(\"Correction ID:\", correction_id)\n",
    "\n",
    "# 3. Check if the correction exists\n",
    "print(\"Correction exists (should be True):\", db.check_correction_exists(correction_id))\n",
    "\n",
    "# 4. Mark correction as reviewed\n",
    "reviewed = db.corrections_alter_reviewed(correction_id, 1)\n",
    "print(\"Correction marked as reviewed (should be True):\", reviewed)\n",
    "\n",
    "# 5. Check that it no longer appears in unreviewed list\n",
    "still_unreviewed = any(c['id'] == correction_id for c in db.get_unreviewed_corrections())\n",
    "print(\"Correction still in unreviewed list (should be False):\", still_unreviewed)\n",
    "\n",
    "# 6. Delete the correction\n",
    "deleted = db.delete_correction(correction_id)\n",
    "print(\"Correction deletion successful (should be True):\", deleted)\n",
    "\n",
    "# 7. Confirm deletion\n",
    "print(\"Correction exists after deletion (should be False):\", db.check_correction_exists(correction_id))\n",
    "\n",
    "# Clean up user\n",
    "db.delete_user(username)\n",
    "\n",
    "# Close the database connection\n",
    "db.close()\n"
   ]
  },
  {
   "cell_type": "markdown",
   "id": "06b6f408",
   "metadata": {},
   "source": [
    "## Testing Rejected Corrections Table Functionality"
   ]
  },
  {
   "cell_type": "code",
   "execution_count": 7,
   "id": "d0628045",
   "metadata": {},
   "outputs": [
    {
     "name": "stdout",
     "output_type": "stream",
     "text": [
      "Approved word added (should be True): True\n",
      "Approved words for user: [{'word': 'technobabble'}]\n",
      "Approved word exists by ID (should be True): True\n",
      "Approved word deletion successful (should be True): True\n",
      "Approved word exists after deletion (should be False): False\n"
     ]
    }
   ],
   "source": [
    "# Instantiate the Database\n",
    "db = Database()\n",
    "\n",
    "# Test data\n",
    "username = \"approved_word_tester\"\n",
    "word = \"technobabble\"\n",
    "\n",
    "# Ensure the user exists\n",
    "if not db.username_exists(username):\n",
    "    db.register_user(username, \"test123\")\n",
    "\n",
    "# 1. Add the approved word\n",
    "word_added = db.add_approved_word(username, word)\n",
    "print(\"Approved word added (should be True):\", word_added)\n",
    "\n",
    "# 2. Retrieve all approved words for the user\n",
    "user_words = db.get_user_words(username)\n",
    "print(\"Approved words for user:\", user_words)\n",
    "\n",
    "# 3. Get the ID of the word we just added (assuming most recent)\n",
    "with db.connection.cursor() as cursor:\n",
    "    cursor.execute(f\"SELECT id FROM approved_words WHERE username = %s AND word = %s ORDER BY id DESC LIMIT 1\", (username, word))\n",
    "    result = cursor.fetchone()\n",
    "    word_id = result['id'] if result else None\n",
    "\n",
    "if word_id is None:\n",
    "    print(\"❌ Error: Word ID not found.\")\n",
    "else:\n",
    "    # 4. Check if word exists by ID\n",
    "    exists = db.check_approved_word_exists(word_id)\n",
    "    print(\"Approved word exists by ID (should be True):\", exists)\n",
    "\n",
    "    # 5. Delete the word\n",
    "    deleted = db.delete_approved_word(word_id)\n",
    "    print(\"Approved word deletion successful (should be True):\", deleted)\n",
    "\n",
    "    # 6. Confirm deletion\n",
    "    still_exists = db.check_approved_word_exists(word_id)\n",
    "    print(\"Approved word exists after deletion (should be False):\", still_exists)\n",
    "\n",
    "# Clean up test user\n",
    "db.delete_user(username)\n",
    "\n",
    "# Close connection\n",
    "db.close()\n"
   ]
  },
  {
   "cell_type": "markdown",
   "id": "0a565f08",
   "metadata": {},
   "source": [
    "## Testing User History Table Functionality"
   ]
  },
  {
   "cell_type": "code",
   "execution_count": 9,
   "id": "da0c9fb3",
   "metadata": {},
   "outputs": [
    {
     "name": "stdout",
     "output_type": "stream",
     "text": [
      "✅ user_history regression test passed.\n"
     ]
    }
   ],
   "source": [
    "# Regression Test: user_history table\n",
    "\n",
    "db = Database()\n",
    "\n",
    "# Test data\n",
    "username = \"jdoe1\"\n",
    "text = \"Original text\"\n",
    "correction = \"Corrected text\"\n",
    "tokens_used = 5\n",
    "\n",
    "# Add user history\n",
    "assert db.add_user_history(username, text, correction, tokens_used) == True, \"Failed to add user history\"\n",
    "\n",
    "# Fetch all histories for the user\n",
    "histories = db.get_user_history_by_user(username)\n",
    "assert any(h['text'] == text and h['correction'] == correction for h in histories), \"Inserted history not found\"\n",
    "\n",
    "# Get last inserted history ID (assuming auto-increment ID is used)\n",
    "last_history = histories[-1]\n",
    "history_id = last_history['id']\n",
    "\n",
    "# Fetch by ID\n",
    "fetched = db.get_user_history_by_id(history_id)\n",
    "assert fetched['text'] == text, \"Mismatch in fetched text\"\n",
    "assert fetched['correction'] == correction, \"Mismatch in fetched correction\"\n",
    "\n",
    "# Update history\n",
    "updated_text = \"Updated text\"\n",
    "updated_correction = \"Updated correction\"\n",
    "updated_tokens = 10\n",
    "assert db.update_history_content(history_id, updated_text, updated_correction, updated_tokens) == True, \"Failed to update history\"\n",
    "\n",
    "# Confirm update\n",
    "updated = db.get_user_history_by_id(history_id)\n",
    "assert updated['text'] == updated_text, \"Text not updated correctly\"\n",
    "assert updated['correction'] == updated_correction, \"Correction not updated correctly\"\n",
    "assert updated['tokens_used'] == updated_tokens, \"Tokens not updated correctly\"\n",
    "\n",
    "# Delete history\n",
    "assert db.delete_user_history(history_id) == True, \"Failed to delete history\"\n",
    "assert db.get_user_history_by_id(history_id) is None, \"Deleted history still accessible\"\n",
    "\n",
    "print(\"✅ user_history regression test passed.\")\n"
   ]
  },
  {
   "cell_type": "markdown",
   "id": "866321b0",
   "metadata": {},
   "source": [
    "## Testing Collaborators Table Functionality"
   ]
  },
  {
   "cell_type": "code",
   "execution_count": null,
   "id": "224a2ae7",
   "metadata": {},
   "outputs": [
    {
     "name": "stdout",
     "output_type": "stream",
     "text": [
      "✅ collaborators regression test passed.\n"
     ]
    }
   ],
   "source": [
    "# Regression Test: collaborators table\n",
    "\n",
    "db = Database()\n",
    "\n",
    "# Test data\n",
    "inviter = \"test_inviter\"\n",
    "collaborator = \"test_collaborator\"\n",
    "text = \"Shared text\"\n",
    "correction = \"Shared correction\"\n",
    "received = False\n",
    "\n",
    "# Add collaboration\n",
    "db.add_collaboration(inviter, collaborator, text, correction, received)\n",
    "\n",
    "# Retrieve all to get last ID\n",
    "collabs = db.query(\"SELECT * FROM collaborators WHERE inviter = %s ORDER BY id DESC\", (inviter,))\n",
    "assert collabs, \"No collaboration record found after insert\"\n",
    "collab_id = collabs[0]['id']\n",
    "\n",
    "# Fetch by ID\n",
    "fetched = db.get_collaboration_by_id(collab_id)\n",
    "assert fetched['text'] == text, \"Text mismatch\"\n",
    "assert fetched['correction'] == correction, \"Correction mismatch\"\n",
    "assert fetched['received'] == int(received), \"Received status mismatch\"\n",
    "\n",
    "# Update collaboration\n",
    "new_text = \"New shared text\"\n",
    "new_correction = \"New shared correction\"\n",
    "new_received = True\n",
    "assert db.update_collaboration(collab_id, new_text, new_correction, new_received) == True, \"Failed to update collaboration\"\n",
    "\n",
    "# Confirm update\n",
    "updated = db.get_collaboration_by_id(collab_id)\n",
    "assert updated['text'] == new_text, \"Text not updated correctly\"\n",
    "assert updated['correction'] == new_correction, \"Correction not updated correctly\"\n",
    "assert updated['received'] == int(new_received), \"Received not updated correctly\"\n",
    "\n",
    "# Delete collaboration\n",
    "assert db.delete_collaboration(collab_id) == True, \"Failed to delete collaboration\"\n",
    "assert db.get_collaboration_by_id(collab_id) is None, \"Deleted collaboration still accessible\"\n",
    "\n",
    "print(\"✅ collaborators regression test passed.\")\n"
   ]
  },
  {
   "cell_type": "code",
   "execution_count": null,
   "id": "9235d714",
   "metadata": {},
   "outputs": [],
   "source": []
  }
 ],
 "metadata": {
  "kernelspec": {
   "display_name": "Python 3",
   "language": "python",
   "name": "python3"
  },
  "language_info": {
   "codemirror_mode": {
    "name": "ipython",
    "version": 3
   },
   "file_extension": ".py",
   "mimetype": "text/x-python",
   "name": "python",
   "nbconvert_exporter": "python",
   "pygments_lexer": "ipython3",
   "version": "3.13.3"
  }
 },
 "nbformat": 4,
 "nbformat_minor": 5
}
